{
 "cells": [
  {
   "cell_type": "code",
   "execution_count": 1,
   "metadata": {},
   "outputs": [],
   "source": [
    "import tensorflow as tf\n",
    "from tensorflow.keras import layers"
   ]
  },
  {
   "cell_type": "markdown",
   "metadata": {},
   "source": [
    "# Vanilla LSTM"
   ]
  },
  {
   "cell_type": "code",
   "execution_count": 2,
   "metadata": {},
   "outputs": [],
   "source": [
    "model = tf.keras.models.Sequential()"
   ]
  },
  {
   "cell_type": "code",
   "execution_count": 3,
   "metadata": {},
   "outputs": [],
   "source": [
    "model.add(layers.LSTM(20, input_shape=(10, 1),return_sequences=True))"
   ]
  },
  {
   "cell_type": "code",
   "execution_count": 4,
   "metadata": {},
   "outputs": [],
   "source": [
    "model.add(layers.TimeDistributed(layers.Dense(1, activation=\"sigmoid\")))"
   ]
  },
  {
   "cell_type": "code",
   "execution_count": 44,
   "metadata": {},
   "outputs": [],
   "source": [
    "model.compile(\n",
    "    optimizer=tf.train.GradientDescentOptimizer(learning_rate=0.01),\n",
    "    loss=\"binary_crossentropy\",\n",
    "    metrics=[\"acc\"]\n",
    ")"
   ]
  },
  {
   "cell_type": "code",
   "execution_count": 45,
   "metadata": {},
   "outputs": [],
   "source": [
    "import numpy as np"
   ]
  },
  {
   "cell_type": "code",
   "execution_count": 46,
   "metadata": {},
   "outputs": [],
   "source": [
    "n_timestamps = 10"
   ]
  },
  {
   "cell_type": "code",
   "execution_count": 47,
   "metadata": {},
   "outputs": [],
   "source": [
    "X = np.random.rand(n_timestamps)"
   ]
  },
  {
   "cell_type": "code",
   "execution_count": 48,
   "metadata": {},
   "outputs": [],
   "source": [
    "limit = n_timestamps / 4.0"
   ]
  },
  {
   "cell_type": "code",
   "execution_count": 49,
   "metadata": {},
   "outputs": [],
   "source": [
    "y = (np.cumsum(X) > limit).astype(np.int32) "
   ]
  },
  {
   "cell_type": "code",
   "execution_count": 50,
   "metadata": {},
   "outputs": [
    {
     "data": {
      "text/plain": [
       "array([0, 0, 0, 0, 0, 1, 1, 1, 1, 1], dtype=int32)"
      ]
     },
     "execution_count": 50,
     "metadata": {},
     "output_type": "execute_result"
    }
   ],
   "source": [
    "y"
   ]
  },
  {
   "cell_type": "code",
   "execution_count": 51,
   "metadata": {},
   "outputs": [],
   "source": [
    "X = np.expand_dims(np.expand_dims(X, -1), 0)\n",
    "y = np.expand_dims(np.expand_dims(y, -1), 0)"
   ]
  },
  {
   "cell_type": "code",
   "execution_count": 52,
   "metadata": {},
   "outputs": [
    {
     "data": {
      "text/plain": [
       "(1, 10, 1)"
      ]
     },
     "execution_count": 52,
     "metadata": {},
     "output_type": "execute_result"
    }
   ],
   "source": [
    "X.shape"
   ]
  },
  {
   "cell_type": "code",
   "execution_count": 53,
   "metadata": {},
   "outputs": [
    {
     "data": {
      "text/plain": [
       "(1, 10, 1)"
      ]
     },
     "execution_count": 53,
     "metadata": {},
     "output_type": "execute_result"
    }
   ],
   "source": [
    "y.shape"
   ]
  },
  {
   "cell_type": "code",
   "execution_count": 54,
   "metadata": {},
   "outputs": [
    {
     "name": "stdout",
     "output_type": "stream",
     "text": [
      "Epoch 1/10\n",
      "1/1 [==============================] - 1s 793ms/step - loss: 0.6821 - acc: 0.5000\n",
      "Epoch 2/10\n",
      "1/1 [==============================] - 0s 14ms/step - loss: 0.6820 - acc: 0.5000\n",
      "Epoch 3/10\n",
      "1/1 [==============================] - 0s 16ms/step - loss: 0.6819 - acc: 0.5000\n",
      "Epoch 4/10\n",
      "1/1 [==============================] - 0s 15ms/step - loss: 0.6818 - acc: 0.5000\n",
      "Epoch 5/10\n",
      "1/1 [==============================] - 0s 16ms/step - loss: 0.6817 - acc: 0.5000\n",
      "Epoch 6/10\n",
      "1/1 [==============================] - 0s 17ms/step - loss: 0.6816 - acc: 0.5000\n",
      "Epoch 7/10\n",
      "1/1 [==============================] - 0s 17ms/step - loss: 0.6816 - acc: 0.5000\n",
      "Epoch 8/10\n",
      "1/1 [==============================] - 0s 17ms/step - loss: 0.6815 - acc: 0.5000\n",
      "Epoch 9/10\n",
      "1/1 [==============================] - 0s 19ms/step - loss: 0.6814 - acc: 0.5000\n",
      "Epoch 10/10\n",
      "1/1 [==============================] - 0s 19ms/step - loss: 0.6813 - acc: 0.5000\n"
     ]
    },
    {
     "data": {
      "text/plain": [
       "<tensorflow.python.keras.callbacks.History at 0xb2928d668>"
      ]
     },
     "execution_count": 54,
     "metadata": {},
     "output_type": "execute_result"
    }
   ],
   "source": [
    "model.fit(X, y, epochs=10)"
   ]
  },
  {
   "cell_type": "code",
   "execution_count": 55,
   "metadata": {},
   "outputs": [
    {
     "name": "stdout",
     "output_type": "stream",
     "text": [
      "_________________________________________________________________\n",
      "Layer (type)                 Output Shape              Param #   \n",
      "=================================================================\n",
      "lstm (LSTM)                  (None, 10, 20)            1760      \n",
      "_________________________________________________________________\n",
      "time_distributed (TimeDistri (None, 10, 1)             21        \n",
      "=================================================================\n",
      "Total params: 1,781\n",
      "Trainable params: 1,781\n",
      "Non-trainable params: 0\n",
      "_________________________________________________________________\n"
     ]
    }
   ],
   "source": [
    "model.summary()"
   ]
  },
  {
   "cell_type": "markdown",
   "metadata": {},
   "source": [
    "# BiLSTM"
   ]
  },
  {
   "cell_type": "code",
   "execution_count": 56,
   "metadata": {},
   "outputs": [],
   "source": [
    "bilstm_model = tf.keras.models.Sequential()"
   ]
  },
  {
   "cell_type": "code",
   "execution_count": 57,
   "metadata": {},
   "outputs": [],
   "source": [
    "bilstm_model.add(layers.Bidirectional(layers.LSTM(20, return_sequences=True), input_shape=(n_timestamps, 1)))\n",
    "bilstm_model.add(layers.TimeDistributed(layers.Dense(1, activation=\"sigmoid\")))"
   ]
  },
  {
   "cell_type": "code",
   "execution_count": 58,
   "metadata": {},
   "outputs": [],
   "source": [
    "bilstm_model.compile(\n",
    "    optimizer=tf.train.AdadeltaOptimizer(learning_rate=0.01),\n",
    "    loss=\"binary_crossentropy\",\n",
    "    metrics=[\"acc\"]\n",
    ")"
   ]
  },
  {
   "cell_type": "code",
   "execution_count": 59,
   "metadata": {},
   "outputs": [
    {
     "name": "stdout",
     "output_type": "stream",
     "text": [
      "Epoch 1/10\n",
      "1/1 [==============================] - 2s 2s/step - loss: 0.6902 - acc: 0.5000\n",
      "Epoch 2/10\n",
      "1/1 [==============================] - 0s 14ms/step - loss: 0.6902 - acc: 0.5000\n",
      "Epoch 3/10\n",
      "1/1 [==============================] - 0s 17ms/step - loss: 0.6902 - acc: 0.5000\n",
      "Epoch 4/10\n",
      "1/1 [==============================] - 0s 16ms/step - loss: 0.6902 - acc: 0.5000\n",
      "Epoch 5/10\n",
      "1/1 [==============================] - 0s 16ms/step - loss: 0.6902 - acc: 0.5000\n",
      "Epoch 6/10\n",
      "1/1 [==============================] - 0s 19ms/step - loss: 0.6902 - acc: 0.5000\n",
      "Epoch 7/10\n",
      "1/1 [==============================] - 0s 18ms/step - loss: 0.6901 - acc: 0.5000\n",
      "Epoch 8/10\n",
      "1/1 [==============================] - 0s 18ms/step - loss: 0.6901 - acc: 0.5000\n",
      "Epoch 9/10\n",
      "1/1 [==============================] - 0s 22ms/step - loss: 0.6901 - acc: 0.5000\n",
      "Epoch 10/10\n",
      "1/1 [==============================] - 0s 20ms/step - loss: 0.6901 - acc: 0.5000\n"
     ]
    },
    {
     "data": {
      "text/plain": [
       "<tensorflow.python.keras.callbacks.History at 0xb2a5b6828>"
      ]
     },
     "execution_count": 59,
     "metadata": {},
     "output_type": "execute_result"
    }
   ],
   "source": [
    "bilstm_model.fit(X, y, epochs=10)"
   ]
  },
  {
   "cell_type": "code",
   "execution_count": 61,
   "metadata": {},
   "outputs": [
    {
     "name": "stdout",
     "output_type": "stream",
     "text": [
      "_________________________________________________________________\n",
      "Layer (type)                 Output Shape              Param #   \n",
      "=================================================================\n",
      "lstm (LSTM)                  (None, 10, 20)            1760      \n",
      "_________________________________________________________________\n",
      "time_distributed (TimeDistri (None, 10, 1)             21        \n",
      "=================================================================\n",
      "Total params: 1,781\n",
      "Trainable params: 1,781\n",
      "Non-trainable params: 0\n",
      "_________________________________________________________________\n"
     ]
    }
   ],
   "source": [
    "model.summary()"
   ]
  },
  {
   "cell_type": "code",
   "execution_count": 62,
   "metadata": {},
   "outputs": [
    {
     "name": "stdout",
     "output_type": "stream",
     "text": [
      "_________________________________________________________________\n",
      "Layer (type)                 Output Shape              Param #   \n",
      "=================================================================\n",
      "bidirectional (Bidirectional (None, 10, 40)            3520      \n",
      "_________________________________________________________________\n",
      "time_distributed_1 (TimeDist (None, 10, 1)             41        \n",
      "=================================================================\n",
      "Total params: 3,561\n",
      "Trainable params: 3,561\n",
      "Non-trainable params: 0\n",
      "_________________________________________________________________\n"
     ]
    }
   ],
   "source": [
    "bilstm_model.summary()"
   ]
  },
  {
   "cell_type": "markdown",
   "metadata": {},
   "source": [
    "# BLSTM for frames"
   ]
  },
  {
   "cell_type": "code",
   "execution_count": 64,
   "metadata": {},
   "outputs": [],
   "source": [
    "frame_dim = 1024\n",
    "player_dim = 3472"
   ]
  },
  {
   "cell_type": "code",
   "execution_count": 63,
   "metadata": {},
   "outputs": [],
   "source": [
    "num_hidden_states = 256\n",
    "embedding_dim = 256"
   ]
  },
  {
   "cell_type": "code",
   "execution_count": 73,
   "metadata": {},
   "outputs": [],
   "source": [
    "n_timestamps = 24"
   ]
  },
  {
   "cell_type": "code",
   "execution_count": 76,
   "metadata": {},
   "outputs": [],
   "source": [
    "model = tf.keras.models.Sequential()\n",
    "model.add(layers.Embedding(frame_dim, embedding_dim, input_length=n_timestamps))\n",
    "model.add(layers.Bidirectional(layers.LSTM(num_hidden_states, return_sequences=True), input_shape=(n_timestamps, embedding_dim)))"
   ]
  },
  {
   "cell_type": "code",
   "execution_count": 77,
   "metadata": {},
   "outputs": [
    {
     "name": "stdout",
     "output_type": "stream",
     "text": [
      "_________________________________________________________________\n",
      "Layer (type)                 Output Shape              Param #   \n",
      "=================================================================\n",
      "embedding_5 (Embedding)      (None, 24, 256)           262144    \n",
      "_________________________________________________________________\n",
      "bidirectional_5 (Bidirection (None, 24, 512)           1050624   \n",
      "=================================================================\n",
      "Total params: 1,312,768\n",
      "Trainable params: 1,312,768\n",
      "Non-trainable params: 0\n",
      "_________________________________________________________________\n"
     ]
    }
   ],
   "source": [
    "model.summary()"
   ]
  },
  {
   "cell_type": "markdown",
   "metadata": {},
   "source": [
    "# Classification Network"
   ]
  },
  {
   "cell_type": "code",
   "execution_count": 78,
   "metadata": {},
   "outputs": [],
   "source": [
    "import tensorflow.keras.backend as K"
   ]
  },
  {
   "cell_type": "code",
   "execution_count": 308,
   "metadata": {},
   "outputs": [],
   "source": [
    "batch_size=5"
   ]
  },
  {
   "cell_type": "code",
   "execution_count": 408,
   "metadata": {},
   "outputs": [],
   "source": [
    "k = 11\n",
    "num_players = 10"
   ]
  },
  {
   "cell_type": "code",
   "execution_count": 484,
   "metadata": {},
   "outputs": [],
   "source": [
    "ft = layers.Input(shape=(n_timestamps, frame_dim))\n",
    "pt = layers.Input(shape=(num_players, n_timestamps, player_dim))\n",
    "\n",
    "ft_embed = layers.Dense(embedding_dim, activation=\"relu\")(ft)\n",
    "pt_embed = layers.Dense(embedding_dim, activation=\"relu\")(pt)\n",
    "\n",
    "h_f = layers.Bidirectional(layers.LSTM(num_hidden_states, return_sequences=True), input_shape=(n_timestamps, embedding_dim))(ft_embed)\n",
    "h_f_repeated = layers.Lambda(lambda x: K.repeat_elements(K.expand_dims(x, 1), rep=num_players, axis=1))(h_f)\n",
    "\n",
    "h_p = layers.TimeDistributed(layers.Masking(mask_value=0., input_shape=(n_timestamps, embedding_dim)))(pt_embed)\n",
    "h_p = layers.TimeDistributed(layers.Bidirectional(layers.LSTM(num_hidden_states, return_sequences=True), input_shape=(n_timestamps, embedding_dim)))(pt_embed)\n",
    "\n",
    "attention_probs = layers.Dense(embedding_dim * 2, activation=\"softmax\")(layers.Concatenate()([h_f_repeated, h_p]))\n",
    "\n",
    "merge = layers.Multiply()([h_p, attention_probs])\n",
    "a_t = layers.Lambda(lambda x: K.sum(x, axis=1))(merge)\n",
    "\n",
    "c_t = layers.Concatenate()([h_f, a_t])\n",
    "h_e = layers.LSTM(num_hidden_states, return_sequences=True, input_shape=(n_timestamps, 2 * embedding_dim))(c_t)\n",
    "\n",
    "outputs = layers.Dense(k, activation=\"linear\")(h_e)\n"
   ]
  },
  {
   "cell_type": "code",
   "execution_count": 485,
   "metadata": {},
   "outputs": [],
   "source": [
    "def squared_hinge_loss(y_true, y_pred):\n",
    "    # y_true 100x11, y_pred 100x24x11\n",
    "    # print(y_pred.get_shape())\n",
    "    L = 0.5 * K.sum(K.square(K.maximum(0., 1. - y_true * y_pred)), axis=[-1, -2])\n",
    "    return K.mean(L)"
   ]
  },
  {
   "cell_type": "code",
   "execution_count": 486,
   "metadata": {},
   "outputs": [],
   "source": [
    "class_model = tf.keras.Model(inputs=[ft, pt], outputs=outputs)"
   ]
  },
  {
   "cell_type": "code",
   "execution_count": 487,
   "metadata": {},
   "outputs": [],
   "source": [
    "class_model.compile(\n",
    "    optimizer=tf.train.AdamOptimizer(learning_rate=0.01),\n",
    "    loss=squared_hinge_loss\n",
    ")"
   ]
  },
  {
   "cell_type": "code",
   "execution_count": 488,
   "metadata": {},
   "outputs": [
    {
     "name": "stdout",
     "output_type": "stream",
     "text": [
      "______________________________________________________________________________________________________________________________________________________\n",
      "Layer (type)                                     Output Shape                     Param #           Connected to                                      \n",
      "======================================================================================================================================================\n",
      "input_128 (InputLayer)                           (None, 24, 1024)                 0                                                                   \n",
      "______________________________________________________________________________________________________________________________________________________\n",
      "dense_158 (Dense)                                (None, 24, 256)                  262400            input_128[0][0]                                   \n",
      "______________________________________________________________________________________________________________________________________________________\n",
      "input_129 (InputLayer)                           (None, 10, 24, 3472)             0                                                                   \n",
      "______________________________________________________________________________________________________________________________________________________\n",
      "bidirectional_118 (Bidirectional)                (None, 24, 512)                  1050624           dense_158[0][0]                                   \n",
      "______________________________________________________________________________________________________________________________________________________\n",
      "dense_159 (Dense)                                (None, 10, 24, 256)              889088            input_129[0][0]                                   \n",
      "______________________________________________________________________________________________________________________________________________________\n",
      "time_distributed_35 (TimeDistributed)            (None, 10, 24, 512)              1050624           dense_159[0][0]                                   \n",
      "______________________________________________________________________________________________________________________________________________________\n",
      "lambda_83 (Lambda)                               (None, 10, 24, 512)              0                 bidirectional_118[0][0]                           \n",
      "______________________________________________________________________________________________________________________________________________________\n",
      "concatenate_11 (Concatenate)                     (None, 10, 24, 1024)             0                 lambda_83[0][0]                                   \n",
      "                                                                                                    time_distributed_35[0][0]                         \n",
      "______________________________________________________________________________________________________________________________________________________\n",
      "dense_160 (Dense)                                (None, 10, 24, 512)              524800            concatenate_11[0][0]                              \n",
      "______________________________________________________________________________________________________________________________________________________\n",
      "multiply_6 (Multiply)                            (None, 10, 24, 512)              0                 time_distributed_35[0][0]                         \n",
      "                                                                                                    dense_160[0][0]                                   \n",
      "______________________________________________________________________________________________________________________________________________________\n",
      "lambda_84 (Lambda)                               (None, 24, 512)                  0                 multiply_6[0][0]                                  \n",
      "______________________________________________________________________________________________________________________________________________________\n",
      "concatenate_12 (Concatenate)                     (None, 24, 1024)                 0                 bidirectional_118[0][0]                           \n",
      "                                                                                                    lambda_84[0][0]                                   \n",
      "______________________________________________________________________________________________________________________________________________________\n",
      "lstm_146 (LSTM)                                  (None, 24, 256)                  1311744           concatenate_12[0][0]                              \n",
      "______________________________________________________________________________________________________________________________________________________\n",
      "dense_161 (Dense)                                (None, 24, 11)                   2827              lstm_146[0][0]                                    \n",
      "======================================================================================================================================================\n",
      "Total params: 5,092,107\n",
      "Trainable params: 5,092,107\n",
      "Non-trainable params: 0\n",
      "______________________________________________________________________________________________________________________________________________________\n"
     ]
    }
   ],
   "source": [
    "class_model.summary(line_length=150)"
   ]
  },
  {
   "cell_type": "markdown",
   "metadata": {},
   "source": [
    "## Mock Data"
   ]
  },
  {
   "cell_type": "code",
   "execution_count": 478,
   "metadata": {},
   "outputs": [],
   "source": [
    "N_SAMPLES = 100\n",
    "N_CLASS = 11"
   ]
  },
  {
   "cell_type": "code",
   "execution_count": 448,
   "metadata": {},
   "outputs": [],
   "source": [
    "frame = np.random.rand(N_SAMPLES, n_timestamps, frame_dim)\n",
    "player = np.random.rand(N_SAMPLES, num_players, n_timestamps, player_dim)"
   ]
  },
  {
   "cell_type": "code",
   "execution_count": 449,
   "metadata": {},
   "outputs": [],
   "source": [
    "labels = -1 * np.ones(shape=(N_SAMPLES, N_CLASS))\n",
    "classes = np.random.randint(0, N_CLASS, N_SAMPLES)\n",
    "labels[np.arange(len(labels)), classes] = 1"
   ]
  },
  {
   "cell_type": "code",
   "execution_count": 450,
   "metadata": {},
   "outputs": [],
   "source": [
    "labels = labels.reshape(labels.shape[0], 1, labels.shape[1])\n",
    "labels = labels.repeat(24, axis=1)"
   ]
  },
  {
   "cell_type": "code",
   "execution_count": 451,
   "metadata": {},
   "outputs": [
    {
     "data": {
      "text/plain": [
       "(100, 24, 11)"
      ]
     },
     "execution_count": 451,
     "metadata": {},
     "output_type": "execute_result"
    }
   ],
   "source": [
    "labels.shape"
   ]
  },
  {
   "cell_type": "code",
   "execution_count": 489,
   "metadata": {},
   "outputs": [
    {
     "name": "stdout",
     "output_type": "stream",
     "text": [
      "Epoch 1/5\n",
      "100/100 [==============================] - 38s 379ms/step - loss: 134.3285\n",
      "Epoch 2/5\n",
      "100/100 [==============================] - 8s 76ms/step - loss: 257.6184\n",
      "Epoch 3/5\n",
      "100/100 [==============================] - 6s 61ms/step - loss: 160.9807\n",
      "Epoch 4/5\n",
      "100/100 [==============================] - 7s 70ms/step - loss: 85.5073\n",
      "Epoch 5/5\n",
      "100/100 [==============================] - 7s 68ms/step - loss: 64.4176\n"
     ]
    },
    {
     "data": {
      "text/plain": [
       "<tensorflow.python.keras.callbacks.History at 0xc1478c7b8>"
      ]
     },
     "execution_count": 489,
     "metadata": {},
     "output_type": "execute_result"
    }
   ],
   "source": [
    "class_model.fit([frame, player], labels, epochs=5, batch_size=100)"
   ]
  },
  {
   "cell_type": "code",
   "execution_count": null,
   "metadata": {},
   "outputs": [],
   "source": []
  }
 ],
 "metadata": {
  "kernelspec": {
   "display_name": "Python 3",
   "language": "python",
   "name": "python3"
  },
  "language_info": {
   "codemirror_mode": {
    "name": "ipython",
    "version": 3
   },
   "file_extension": ".py",
   "mimetype": "text/x-python",
   "name": "python",
   "nbconvert_exporter": "python",
   "pygments_lexer": "ipython3",
   "version": "3.6.6"
  }
 },
 "nbformat": 4,
 "nbformat_minor": 2
}
