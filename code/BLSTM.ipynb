{
 "cells": [
  {
   "cell_type": "code",
   "execution_count": 1,
   "metadata": {},
   "outputs": [],
   "source": [
    "import tensorflow as tf\n",
    "from tensorflow.keras import layers\n",
    "import tensorflow.keras.backend as K\n",
    "\n",
    "import numpy as np\n",
    "import matplotlib.pyplot as plt\n",
    "\n",
    "import pickle"
   ]
  },
  {
   "cell_type": "markdown",
   "metadata": {},
   "source": [
    "# Vanilla LSTM"
   ]
  },
  {
   "cell_type": "code",
   "execution_count": null,
   "metadata": {},
   "outputs": [],
   "source": [
    "model = tf.keras.models.Sequential()"
   ]
  },
  {
   "cell_type": "code",
   "execution_count": null,
   "metadata": {},
   "outputs": [],
   "source": [
    "model.add(layers.LSTM(20, input_shape=(10, 1),return_sequences=True))"
   ]
  },
  {
   "cell_type": "code",
   "execution_count": null,
   "metadata": {},
   "outputs": [],
   "source": [
    "model.add(layers.TimeDistributed(layers.Dense(1, activation=\"sigmoid\")))"
   ]
  },
  {
   "cell_type": "code",
   "execution_count": null,
   "metadata": {},
   "outputs": [],
   "source": [
    "model.compile(\n",
    "    optimizer=tf.train.GradientDescentOptimizer(learning_rate=0.01),\n",
    "    loss=\"binary_crossentropy\",\n",
    "    metrics=[\"acc\"]\n",
    ")"
   ]
  },
  {
   "cell_type": "code",
   "execution_count": null,
   "metadata": {},
   "outputs": [],
   "source": [
    "n_timestamps = 10"
   ]
  },
  {
   "cell_type": "code",
   "execution_count": null,
   "metadata": {},
   "outputs": [],
   "source": [
    "X = np.random.rand(n_timestamps)"
   ]
  },
  {
   "cell_type": "code",
   "execution_count": null,
   "metadata": {},
   "outputs": [],
   "source": [
    "limit = n_timestamps / 4.0"
   ]
  },
  {
   "cell_type": "code",
   "execution_count": null,
   "metadata": {},
   "outputs": [],
   "source": [
    "y = (np.cumsum(X) > limit).astype(np.int32) "
   ]
  },
  {
   "cell_type": "code",
   "execution_count": null,
   "metadata": {},
   "outputs": [],
   "source": [
    "y"
   ]
  },
  {
   "cell_type": "code",
   "execution_count": null,
   "metadata": {},
   "outputs": [],
   "source": [
    "X = np.expand_dims(np.expand_dims(X, -1), 0)\n",
    "y = np.expand_dims(np.expand_dims(y, -1), 0)"
   ]
  },
  {
   "cell_type": "code",
   "execution_count": null,
   "metadata": {},
   "outputs": [],
   "source": [
    "X.shape"
   ]
  },
  {
   "cell_type": "code",
   "execution_count": null,
   "metadata": {},
   "outputs": [],
   "source": [
    "y.shape"
   ]
  },
  {
   "cell_type": "code",
   "execution_count": null,
   "metadata": {},
   "outputs": [],
   "source": [
    "model.fit(X, y, epochs=10)"
   ]
  },
  {
   "cell_type": "code",
   "execution_count": null,
   "metadata": {},
   "outputs": [],
   "source": [
    "model.summary()"
   ]
  },
  {
   "cell_type": "markdown",
   "metadata": {},
   "source": [
    "# BiLSTM"
   ]
  },
  {
   "cell_type": "code",
   "execution_count": null,
   "metadata": {},
   "outputs": [],
   "source": [
    "bilstm_model = tf.keras.models.Sequential()"
   ]
  },
  {
   "cell_type": "code",
   "execution_count": null,
   "metadata": {},
   "outputs": [],
   "source": [
    "bilstm_model.add(layers.Bidirectional(layers.LSTM(20, return_sequences=True), input_shape=(n_timestamps, 1)))\n",
    "bilstm_model.add(layers.TimeDistributed(layers.Dense(1, activation=\"sigmoid\")))"
   ]
  },
  {
   "cell_type": "code",
   "execution_count": null,
   "metadata": {},
   "outputs": [],
   "source": [
    "bilstm_model.compile(\n",
    "    optimizer=tf.train.AdadeltaOptimizer(learning_rate=0.01),\n",
    "    loss=\"binary_crossentropy\",\n",
    "    metrics=[\"acc\"]\n",
    ")"
   ]
  },
  {
   "cell_type": "code",
   "execution_count": null,
   "metadata": {},
   "outputs": [],
   "source": [
    "bilstm_model.fit(X, y, epochs=10)"
   ]
  },
  {
   "cell_type": "code",
   "execution_count": null,
   "metadata": {},
   "outputs": [],
   "source": [
    "model.summary()"
   ]
  },
  {
   "cell_type": "code",
   "execution_count": null,
   "metadata": {},
   "outputs": [],
   "source": [
    "bilstm_model.summary()"
   ]
  },
  {
   "cell_type": "markdown",
   "metadata": {},
   "source": [
    "# BLSTM for frames"
   ]
  },
  {
   "cell_type": "code",
   "execution_count": 2,
   "metadata": {},
   "outputs": [],
   "source": [
    "frame_dim = 1024\n",
    "player_dim = 3472"
   ]
  },
  {
   "cell_type": "code",
   "execution_count": 3,
   "metadata": {},
   "outputs": [],
   "source": [
    "num_hidden_states = 256\n",
    "embedding_dim = 256"
   ]
  },
  {
   "cell_type": "code",
   "execution_count": 4,
   "metadata": {},
   "outputs": [],
   "source": [
    "n_timestamps = 24"
   ]
  },
  {
   "cell_type": "markdown",
   "metadata": {},
   "source": [
    "# Classification Network"
   ]
  },
  {
   "cell_type": "code",
   "execution_count": 50,
   "metadata": {},
   "outputs": [],
   "source": [
    "batch_size = 16"
   ]
  },
  {
   "cell_type": "code",
   "execution_count": 51,
   "metadata": {},
   "outputs": [],
   "source": [
    "k = 11\n",
    "num_players = 10"
   ]
  },
  {
   "cell_type": "code",
   "execution_count": 52,
   "metadata": {},
   "outputs": [],
   "source": [
    "ft = layers.Input(shape=(n_timestamps, frame_dim))\n",
    "pt = layers.Input(shape=(num_players, n_timestamps, player_dim))\n",
    "\n",
    "ft_embed = layers.Dense(embedding_dim, activation=\"relu\")(ft)\n",
    "pt_embed = layers.Dense(embedding_dim, activation=\"relu\")(pt)\n",
    "\n",
    "h_f = layers.Bidirectional(layers.LSTM(num_hidden_states, return_sequences=True), input_shape=(n_timestamps, embedding_dim))(ft_embed)\n",
    "h_f_repeated = layers.Lambda(lambda x: K.repeat_elements(K.expand_dims(x, 1), rep=num_players, axis=1))(h_f)\n",
    "\n",
    "#h_p = layers.TimeDistributed(layers.Masking(mask_value=0., input_shape=(n_timestamps, embedding_dim)))(pt_embed)\n",
    "h_p = layers.TimeDistributed(layers.Bidirectional(layers.LSTM(num_hidden_states, return_sequences=True), input_shape=(n_timestamps, embedding_dim)))(pt_embed)\n",
    "\n",
    "concatenate = layers.Concatenate()([h_f_repeated, h_p])\n",
    "logits = layers.Dense(1, activation=\"relu\")(concatenate)\n",
    "permute = layers.Permute((2, 3, 1))(logits)\n",
    "\n",
    "attention_probs = layers.Softmax(name=\"attention\")(permute)\n",
    "attention_probs = layers.Permute((3, 1, 2))(attention_probs)\n",
    "\n",
    "merge = layers.Multiply()([h_p, attention_probs])\n",
    "a_t = layers.Lambda(lambda x: K.sum(x, axis=1))(merge)\n",
    "\n",
    "c_t = layers.Concatenate()([h_f, a_t])\n",
    "h_e = layers.LSTM(num_hidden_states, return_sequences=True, input_shape=(n_timestamps, 2 * embedding_dim))(c_t)\n",
    "outputs = layers.Dense(k, activation=\"linear\")(h_e)"
   ]
  },
  {
   "cell_type": "code",
   "execution_count": 53,
   "metadata": {},
   "outputs": [],
   "source": [
    "def squared_hinge_loss(y_true, y_pred):\n",
    "    # y_true 100x11, y_pred 100x24x11\n",
    "    # print(y_pred.get_shape())\n",
    "    L = 0.5 * K.sum(K.square(K.maximum(0., 1. - y_true * y_pred)), axis=[-1, -2])\n",
    "    return K.mean(L)"
   ]
  },
  {
   "cell_type": "code",
   "execution_count": 54,
   "metadata": {},
   "outputs": [],
   "source": [
    "class_model = tf.keras.Model(inputs=[ft, pt], outputs=outputs)"
   ]
  },
  {
   "cell_type": "code",
   "execution_count": 55,
   "metadata": {},
   "outputs": [],
   "source": [
    "def our_acc(y_true, y_pred):\n",
    "    # y_true batch_size x 24 x 11\n",
    "    # y_pred batch_size x 24 x 11\n",
    "    #K.mean(K.argmax(y_pred, axis=-1) == K.argmax(y_true, axis=-1)\n",
    "    label_pred = K.sum(y_pred, axis=-2)\n",
    "    label_true = K.sum(y_true, axis=-2)\n",
    "    #print(K.equal(K.argmax(label_pred, axis=-1), K.argmax(label_true, axis=-1)))\n",
    "    #print(K.cast(K.equal(K.argmax(label_pred, axis=-1), K.argmax(label_true, axis=-1)), dtype=\"float16\"))\n",
    "    \n",
    "    return K.mean(K.cast(K.equal(K.argmax(label_pred, axis=-1), K.argmax(label_true, axis=-1)), dtype=\"float32\"))\n",
    "    "
   ]
  },
  {
   "cell_type": "code",
   "execution_count": 56,
   "metadata": {},
   "outputs": [],
   "source": [
    "class_model.compile(\n",
    "    optimizer=tf.train.RMSPropOptimizer(learning_rate=0.001),\n",
    "    loss=squared_hinge_loss,\n",
    "    metrics=[our_acc]\n",
    ")"
   ]
  },
  {
   "cell_type": "code",
   "execution_count": 57,
   "metadata": {},
   "outputs": [
    {
     "name": "stdout",
     "output_type": "stream",
     "text": [
      "______________________________________________________________________________________________________________________________________________________\n",
      "Layer (type)                                     Output Shape                     Param #           Connected to                                      \n",
      "======================================================================================================================================================\n",
      "input_5 (InputLayer)                             (None, 24, 1024)                 0                                                                   \n",
      "______________________________________________________________________________________________________________________________________________________\n",
      "dense_8 (Dense)                                  (None, 24, 256)                  262400            input_5[0][0]                                     \n",
      "______________________________________________________________________________________________________________________________________________________\n",
      "input_6 (InputLayer)                             (None, 10, 24, 3472)             0                                                                   \n",
      "______________________________________________________________________________________________________________________________________________________\n",
      "bidirectional_4 (Bidirectional)                  (None, 24, 512)                  1050624           dense_8[0][0]                                     \n",
      "______________________________________________________________________________________________________________________________________________________\n",
      "dense_9 (Dense)                                  (None, 10, 24, 256)              889088            input_6[0][0]                                     \n",
      "______________________________________________________________________________________________________________________________________________________\n",
      "time_distributed_2 (TimeDistributed)             (None, 10, 24, 512)              1050624           dense_9[0][0]                                     \n",
      "______________________________________________________________________________________________________________________________________________________\n",
      "lambda_4 (Lambda)                                (None, 10, 24, 512)              0                 bidirectional_4[0][0]                             \n",
      "______________________________________________________________________________________________________________________________________________________\n",
      "concatenate_4 (Concatenate)                      (None, 10, 24, 1024)             0                 lambda_4[0][0]                                    \n",
      "                                                                                                    time_distributed_2[0][0]                          \n",
      "______________________________________________________________________________________________________________________________________________________\n",
      "dense_10 (Dense)                                 (None, 10, 24, 1)                1025              concatenate_4[0][0]                               \n",
      "______________________________________________________________________________________________________________________________________________________\n",
      "permute_4 (Permute)                              (None, 24, 1, 10)                0                 dense_10[0][0]                                    \n",
      "______________________________________________________________________________________________________________________________________________________\n",
      "attention (Softmax)                              (None, 24, 1, 10)                0                 permute_4[0][0]                                   \n",
      "______________________________________________________________________________________________________________________________________________________\n",
      "permute_5 (Permute)                              (None, 10, 24, 1)                0                 attention[0][0]                                   \n",
      "______________________________________________________________________________________________________________________________________________________\n",
      "multiply_2 (Multiply)                            (None, 10, 24, 512)              0                 time_distributed_2[0][0]                          \n",
      "                                                                                                    permute_5[0][0]                                   \n",
      "______________________________________________________________________________________________________________________________________________________\n",
      "lambda_5 (Lambda)                                (None, 24, 512)                  0                 multiply_2[0][0]                                  \n",
      "______________________________________________________________________________________________________________________________________________________\n",
      "concatenate_5 (Concatenate)                      (None, 24, 1024)                 0                 bidirectional_4[0][0]                             \n",
      "                                                                                                    lambda_5[0][0]                                    \n",
      "______________________________________________________________________________________________________________________________________________________\n",
      "lstm_8 (LSTM)                                    (None, 24, 256)                  1311744           concatenate_5[0][0]                               \n",
      "______________________________________________________________________________________________________________________________________________________\n",
      "dense_11 (Dense)                                 (None, 24, 11)                   2827              lstm_8[0][0]                                      \n",
      "======================================================================================================================================================\n",
      "Total params: 4,568,332\n",
      "Trainable params: 4,568,332\n",
      "Non-trainable params: 0\n",
      "______________________________________________________________________________________________________________________________________________________\n"
     ]
    }
   ],
   "source": [
    "class_model.summary(line_length=150)"
   ]
  },
  {
   "cell_type": "code",
   "execution_count": 58,
   "metadata": {},
   "outputs": [],
   "source": [
    "import numpy as np\n",
    "import tensorflow.keras as keras\n",
    "\n",
    "from collections import Counter\n",
    "import pickle\n",
    "\n",
    "class DataGenerator(keras.utils.Sequence):\n",
    "    'Generates data for Keras'\n",
    "    def __init__(self, event_ids, classes, batch_size=32, frame_dim=1024, player_dim=3472, n_players=10, n_frames=24, shuffle=True):\n",
    "        'Initialization'\n",
    "        self.batch_size = batch_size\n",
    "        self.classes = classes\n",
    "        self.event_ids = event_ids\n",
    "        self.player_dim = player_dim\n",
    "        self.frame_dim = frame_dim\n",
    "        self.n_frames = n_frames\n",
    "        self.n_players = n_players\n",
    "        self.n_classes = len(classes)\n",
    "        self.shuffle = shuffle\n",
    "        self.on_epoch_end()\n",
    "        \n",
    "        self.label2idx = {label: idx for idx,label in enumerate(classes)}\n",
    "\n",
    "    def __len__(self):\n",
    "        'Denotes the number of batches per epoch'\n",
    "        return int(np.floor(len(self.event_ids) / self.batch_size))\n",
    "\n",
    "    def __getitem__(self, index):\n",
    "        'Generate one batch of data'\n",
    "        # Generate indexes of the batch\n",
    "        indexes = self.indexes[index*self.batch_size:(index+1)*self.batch_size]\n",
    "\n",
    "        # Find list of IDs\n",
    "        event_ids_temp = [self.event_ids[k] for k in indexes]\n",
    "\n",
    "        # Generate data\n",
    "        f_t, p_t, labels = self.__data_generation(event_ids_temp)\n",
    "\n",
    "        return [f_t, p_t], labels\n",
    "\n",
    "    def on_epoch_end(self):\n",
    "        'Updates indexes after each epoch'\n",
    "        self.indexes = np.arange(len(self.event_ids))\n",
    "        if self.shuffle == True:\n",
    "            np.random.shuffle(self.indexes)\n",
    "\n",
    "    def __data_generation(self, event_ids_temp):\n",
    "        'Generates data containing batch_size samples' # X : (n_samples, *dim, n_channels)\n",
    "        ft_batch = np.empty((self.batch_size, self.n_frames, self.frame_dim))\n",
    "        pt_batch = np.empty((self.batch_size, self.n_players, self.n_frames, self.player_dim)) \n",
    "        labels_batch = np.empty((self.batch_size, self.n_frames, self.n_classes), dtype=int)\n",
    "        \n",
    "        labels  = [None]* self.batch_size\n",
    "        # Generate data\n",
    "        for i, event_id in enumerate(event_ids_temp):\n",
    "            input_file = open('../data/event_features_correct/' + event_id + '.pickle', 'rb')\n",
    "            \n",
    "          # Store sample\n",
    "            event = pickle.load(input_file)\n",
    "            ft, pt, label = self.tensorize_event(event, input_file)\n",
    "            \n",
    "            ft_batch[i,] = ft\n",
    "            pt_batch[i,] = pt\n",
    "            labels[i] = label\n",
    "        \n",
    "        labels = keras.utils.to_categorical(labels, num_classes=self.n_classes)\n",
    "        labels = 2 * labels -  1\n",
    "        labels_batch = np.repeat(labels, self.n_frames, axis=0).reshape(self.batch_size, self.n_frames, self.n_classes)\n",
    "        return ft_batch, pt_batch, labels_batch\n",
    "        \n",
    "    def tensorize_event(self, event, input_file):\n",
    "        feature, label = event\n",
    "        frame_features, player_dicts = zip(*feature)\n",
    "        frame_features = frame_features[:self.n_frames]\n",
    "        player_dicts = player_dicts[:self.n_frames]\n",
    "\n",
    "        p_t = np.zeros((self.n_players,self.n_frames,self.player_dim))\n",
    "        \n",
    "        # Get all player ids\n",
    "        player_frame_counts = Counter()\n",
    "\n",
    "        for player_dict in player_dicts:\n",
    "            player_frame_counts.update(player_dict.keys())\n",
    "\n",
    "        player_ids, _ = zip(*player_frame_counts.most_common(self.n_players))\n",
    "\n",
    "        for player_idx,player_id in enumerate(player_ids):\n",
    "            for frame_idx, player_dict in enumerate(player_dicts):\n",
    "                if frame_idx >= self.n_frames:\n",
    "                    print(input_file)\n",
    "                    break\n",
    "                if player_id in player_dict:\n",
    "                    p_t[player_idx, frame_idx, : ] = player_dict[player_id]\n",
    "\n",
    "        f_t = np.array(frame_features)\n",
    "\n",
    "        label = self.label2idx[label]\n",
    "\n",
    "        return f_t, p_t, label\n",
    " "
   ]
  },
  {
   "cell_type": "code",
   "execution_count": 59,
   "metadata": {},
   "outputs": [],
   "source": [
    "classes = [\n",
    "    'layup failure',\n",
    "    'layup success',\n",
    "    'steal success',\n",
    "    'other 2-pointer failure',\n",
    "    '3-pointer success',\n",
    "    'other 2-pointer success',\n",
    "    'free-throw success',\n",
    "    '3-pointer failure',\n",
    "    'free-throw failure',\n",
    "    'slam dunk success',\n",
    "    'slam dunk failure'\n",
    "]"
   ]
  },
  {
   "cell_type": "code",
   "execution_count": 60,
   "metadata": {},
   "outputs": [],
   "source": [
    "import os\n",
    "\n",
    "event_ids = [f.split(\".\")[0] for f in os.listdir(\"../data/event_features_correct/\")]\n",
    "train_event_ids = event_ids[:-200]\n",
    "validation_event_ids = event_ids[-200:]\n"
   ]
  },
  {
   "cell_type": "code",
   "execution_count": 61,
   "metadata": {},
   "outputs": [],
   "source": [
    "train_gen = DataGenerator(event_ids=train_event_ids, n_frames=24, n_players=10, classes=classes, batch_size=batch_size)\n",
    "valid_gen = DataGenerator(event_ids=validation_event_ids, n_frames=24, n_players=10, classes=classes, batch_size=batch_size)"
   ]
  },
  {
   "cell_type": "code",
   "execution_count": 64,
   "metadata": {},
   "outputs": [
    {
     "name": "stdout",
     "output_type": "stream",
     "text": [
      "Epoch 1/10\n",
      "55/55 [==============================] - 40s 735ms/step - loss: 34.5987 - our_acc: 0.4148 - val_loss: 47.9715 - val_our_acc: 0.2292\n",
      "Epoch 2/10\n",
      "55/55 [==============================] - 40s 725ms/step - loss: 33.4498 - our_acc: 0.4398 - val_loss: 42.4466 - val_our_acc: 0.2188\n",
      "Epoch 3/10\n",
      "55/55 [==============================] - 41s 745ms/step - loss: 31.9893 - our_acc: 0.4750 - val_loss: 43.3142 - val_our_acc: 0.3229\n",
      "Epoch 4/10\n",
      "55/55 [==============================] - 40s 730ms/step - loss: 31.4580 - our_acc: 0.4807 - val_loss: 40.1982 - val_our_acc: 0.2865\n",
      "Epoch 5/10\n",
      "55/55 [==============================] - 40s 732ms/step - loss: 30.5316 - our_acc: 0.4943 - val_loss: 40.2673 - val_our_acc: 0.3490\n",
      "Epoch 6/10\n",
      "55/55 [==============================] - 40s 731ms/step - loss: 30.5484 - our_acc: 0.4943 - val_loss: 39.9288 - val_our_acc: 0.3438\n",
      "Epoch 7/10\n",
      "55/55 [==============================] - 40s 726ms/step - loss: 29.1188 - our_acc: 0.5307 - val_loss: 44.3411 - val_our_acc: 0.3490\n",
      "Epoch 8/10\n",
      "55/55 [==============================] - 39s 716ms/step - loss: 27.6286 - our_acc: 0.5557 - val_loss: 47.0099 - val_our_acc: 0.2656\n",
      "Epoch 9/10\n",
      "55/55 [==============================] - 40s 724ms/step - loss: 26.7569 - our_acc: 0.5943 - val_loss: 42.3460 - val_our_acc: 0.3385\n",
      "Epoch 10/10\n",
      "55/55 [==============================] - 39s 716ms/step - loss: 24.9992 - our_acc: 0.6205 - val_loss: 52.5422 - val_our_acc: 0.3229\n"
     ]
    }
   ],
   "source": [
    "history = class_model.fit_generator(generator=train_gen, validation_data=valid_gen, epochs=10)"
   ]
  },
  {
   "cell_type": "code",
   "execution_count": 63,
   "metadata": {},
   "outputs": [],
   "source": [
    "# history_dict_1 = history.history"
   ]
  },
  {
   "cell_type": "code",
   "execution_count": 65,
   "metadata": {},
   "outputs": [],
   "source": [
    "history_dict_2 = history.history"
   ]
  },
  {
   "cell_type": "code",
   "execution_count": 66,
   "metadata": {},
   "outputs": [],
   "source": [
    "val_loss = history_dict_1[\"val_loss\"] + history_dict_2[\"val_loss\"]\n",
    "val_our_acc = history_dict_1[\"val_our_acc\"] + history_dict_2[\"val_our_acc\"]\n",
    "loss = history_dict_1[\"loss\"] + history_dict_2[\"loss\"]\n",
    "our_acc = history_dict_1[\"our_acc\"] + history_dict_2[\"our_acc\"]"
   ]
  },
  {
   "cell_type": "code",
   "execution_count": 67,
   "metadata": {},
   "outputs": [],
   "source": [
    "epochs = np.arange(1, len(val_loss) + 1)"
   ]
  },
  {
   "cell_type": "code",
   "execution_count": 68,
   "metadata": {},
   "outputs": [
    {
     "data": {
      "text/plain": [
       "<matplotlib.legend.Legend at 0x7f567c8f0978>"
      ]
     },
     "execution_count": 68,
     "metadata": {},
     "output_type": "execute_result"
    },
    {
     "data": {
      "image/png": "[encoded data removed]",
      "text/plain": [
       "<Figure size 720x720 with 1 Axes>"
      ]
     },
     "metadata": {
      "needs_background": "light"
     },
     "output_type": "display_data"
    }
   ],
   "source": [
    "plt.figure(figsize=(10, 10))\n",
    "plt.plot(epochs, val_loss)\n",
    "plt.plot(epochs, loss)\n",
    "plt.xlabel(\"Epoch\")\n",
    "plt.ylabel(\"Loss\")\n",
    "plt.legend([\"Validation\", \"Train\"])"
   ]
  },
  {
   "cell_type": "code",
   "execution_count": 69,
   "metadata": {},
   "outputs": [
    {
     "data": {
      "text/plain": [
       "<matplotlib.legend.Legend at 0x7f5681f1fe48>"
      ]
     },
     "execution_count": 69,
     "metadata": {},
     "output_type": "execute_result"
    },
    {
     "data": {
      "image/png": "[encoded data removed]",
      "text/plain": [
       "<Figure size 720x720 with 1 Axes>"
      ]
     },
     "metadata": {
      "needs_background": "light"
     },
     "output_type": "display_data"
    }
   ],
   "source": [
    "plt.figure(figsize=(10, 10))\n",
    "plt.plot(epochs, val_our_acc)\n",
    "plt.plot(epochs, our_acc)\n",
    "plt.xlabel(\"Epoch\")\n",
    "plt.ylabel(\"Accuracy\")\n",
    "plt.legend([\"Validation\", \"Train\"])"
   ]
  },
  {
   "cell_type": "code",
   "execution_count": null,
   "metadata": {},
   "outputs": [],
   "source": [
    "event_features_folder = \"../data/event_features/\"\n",
    "event_features_paths = [os.path.join(event_features_folder, event) for event in os.listdir(event_features_folder)]"
   ]
  },
  {
   "cell_type": "code",
   "execution_count": null,
   "metadata": {},
   "outputs": [],
   "source": [
    "for event_features_path in event_features_paths:\n",
    "    with open(event_features_path, \"rb\") as f:\n",
    "        event_features = pickle.load(f)\n",
    "    break"
   ]
  },
  {
   "cell_type": "code",
   "execution_count": null,
   "metadata": {},
   "outputs": [],
   "source": [
    "features, label = event_features"
   ]
  },
  {
   "cell_type": "code",
   "execution_count": null,
   "metadata": {},
   "outputs": [],
   "source": [
    "test_frame, test_player_dict = features[0]"
   ]
  },
  {
   "cell_type": "code",
   "execution_count": null,
   "metadata": {},
   "outputs": [],
   "source": [
    "for player in test_player_dict:\n",
    "    f_t, p_t = test_frame, test_player_dict[player]\n",
    "    with tf.Session() as sess:\n",
    "        sess.run(tf.global_variables_initializer())\n",
    "        attention_weights = sess.run(class_model.get_layer(\"attention\"), {ft: f_t, pt: p_t})\n",
    "        \n",
    "    break"
   ]
  }
 ],
 "metadata": {
  "kernelspec": {
   "display_name": "Python 3",
   "language": "python",
   "name": "python3"
  },
  "language_info": {
   "codemirror_mode": {
    "name": "ipython",
    "version": 3
   },
   "file_extension": ".py",
   "mimetype": "text/x-python",
   "name": "python",
   "nbconvert_exporter": "python",
   "pygments_lexer": "ipython3",
   "version": "3.6.7"
  }
 },
 "nbformat": 4,
 "nbformat_minor": 2
}
