{
 "cells": [
  {
   "cell_type": "code",
   "execution_count": 1,
   "metadata": {},
   "outputs": [],
   "source": [
    "import tensorflow as tf\n",
    "from tensorflow.keras import layers"
   ]
  },
  {
   "cell_type": "markdown",
   "metadata": {},
   "source": [
    "# Vanilla LSTM"
   ]
  },
  {
   "cell_type": "code",
   "execution_count": 2,
   "metadata": {},
   "outputs": [],
   "source": [
    "model = tf.keras.models.Sequential()"
   ]
  },
  {
   "cell_type": "code",
   "execution_count": 3,
   "metadata": {},
   "outputs": [],
   "source": [
    "model.add(layers.LSTM(20, input_shape=(10, 1),return_sequences=True))"
   ]
  },
  {
   "cell_type": "code",
   "execution_count": 4,
   "metadata": {},
   "outputs": [],
   "source": [
    "model.add(layers.TimeDistributed(layers.Dense(1, activation=\"sigmoid\")))"
   ]
  },
  {
   "cell_type": "code",
   "execution_count": 44,
   "metadata": {},
   "outputs": [],
   "source": [
    "model.compile(\n",
    "    optimizer=tf.train.GradientDescentOptimizer(learning_rate=0.01),\n",
    "    loss=\"binary_crossentropy\",\n",
    "    metrics=[\"acc\"]\n",
    ")"
   ]
  },
  {
   "cell_type": "code",
   "execution_count": 45,
   "metadata": {},
   "outputs": [],
   "source": [
    "import numpy as np"
   ]
  },
  {
   "cell_type": "code",
   "execution_count": 46,
   "metadata": {},
   "outputs": [],
   "source": [
    "n_timestamps = 10"
   ]
  },
  {
   "cell_type": "code",
   "execution_count": 47,
   "metadata": {},
   "outputs": [],
   "source": [
    "X = np.random.rand(n_timestamps)"
   ]
  },
  {
   "cell_type": "code",
   "execution_count": 48,
   "metadata": {},
   "outputs": [],
   "source": [
    "limit = n_timestamps / 4.0"
   ]
  },
  {
   "cell_type": "code",
   "execution_count": 49,
   "metadata": {},
   "outputs": [],
   "source": [
    "y = (np.cumsum(X) > limit).astype(np.int32) "
   ]
  },
  {
   "cell_type": "code",
   "execution_count": 50,
   "metadata": {},
   "outputs": [
    {
     "data": {
      "text/plain": [
       "array([0, 0, 0, 0, 0, 1, 1, 1, 1, 1], dtype=int32)"
      ]
     },
     "execution_count": 50,
     "metadata": {},
     "output_type": "execute_result"
    }
   ],
   "source": [
    "y"
   ]
  },
  {
   "cell_type": "code",
   "execution_count": 51,
   "metadata": {},
   "outputs": [],
   "source": [
    "X = np.expand_dims(np.expand_dims(X, -1), 0)\n",
    "y = np.expand_dims(np.expand_dims(y, -1), 0)"
   ]
  },
  {
   "cell_type": "code",
   "execution_count": 52,
   "metadata": {},
   "outputs": [
    {
     "data": {
      "text/plain": [
       "(1, 10, 1)"
      ]
     },
     "execution_count": 52,
     "metadata": {},
     "output_type": "execute_result"
    }
   ],
   "source": [
    "X.shape"
   ]
  },
  {
   "cell_type": "code",
   "execution_count": 53,
   "metadata": {},
   "outputs": [
    {
     "data": {
      "text/plain": [
       "(1, 10, 1)"
      ]
     },
     "execution_count": 53,
     "metadata": {},
     "output_type": "execute_result"
    }
   ],
   "source": [
    "y.shape"
   ]
  },
  {
   "cell_type": "code",
   "execution_count": 54,
   "metadata": {},
   "outputs": [
    {
     "name": "stdout",
     "output_type": "stream",
     "text": [
      "Epoch 1/10\n",
      "1/1 [==============================] - 1s 793ms/step - loss: 0.6821 - acc: 0.5000\n",
      "Epoch 2/10\n",
      "1/1 [==============================] - 0s 14ms/step - loss: 0.6820 - acc: 0.5000\n",
      "Epoch 3/10\n",
      "1/1 [==============================] - 0s 16ms/step - loss: 0.6819 - acc: 0.5000\n",
      "Epoch 4/10\n",
      "1/1 [==============================] - 0s 15ms/step - loss: 0.6818 - acc: 0.5000\n",
      "Epoch 5/10\n",
      "1/1 [==============================] - 0s 16ms/step - loss: 0.6817 - acc: 0.5000\n",
      "Epoch 6/10\n",
      "1/1 [==============================] - 0s 17ms/step - loss: 0.6816 - acc: 0.5000\n",
      "Epoch 7/10\n",
      "1/1 [==============================] - 0s 17ms/step - loss: 0.6816 - acc: 0.5000\n",
      "Epoch 8/10\n",
      "1/1 [==============================] - 0s 17ms/step - loss: 0.6815 - acc: 0.5000\n",
      "Epoch 9/10\n",
      "1/1 [==============================] - 0s 19ms/step - loss: 0.6814 - acc: 0.5000\n",
      "Epoch 10/10\n",
      "1/1 [==============================] - 0s 19ms/step - loss: 0.6813 - acc: 0.5000\n"
     ]
    },
    {
     "data": {
      "text/plain": [
       "<tensorflow.python.keras.callbacks.History at 0xb2928d668>"
      ]
     },
     "execution_count": 54,
     "metadata": {},
     "output_type": "execute_result"
    }
   ],
   "source": [
    "model.fit(X, y, epochs=10)"
   ]
  },
  {
   "cell_type": "code",
   "execution_count": 55,
   "metadata": {},
   "outputs": [
    {
     "name": "stdout",
     "output_type": "stream",
     "text": [
      "_________________________________________________________________\n",
      "Layer (type)                 Output Shape              Param #   \n",
      "=================================================================\n",
      "lstm (LSTM)                  (None, 10, 20)            1760      \n",
      "_________________________________________________________________\n",
      "time_distributed (TimeDistri (None, 10, 1)             21        \n",
      "=================================================================\n",
      "Total params: 1,781\n",
      "Trainable params: 1,781\n",
      "Non-trainable params: 0\n",
      "_________________________________________________________________\n"
     ]
    }
   ],
   "source": [
    "model.summary()"
   ]
  },
  {
   "cell_type": "markdown",
   "metadata": {},
   "source": [
    "# BiLSTM"
   ]
  },
  {
   "cell_type": "code",
   "execution_count": 56,
   "metadata": {},
   "outputs": [],
   "source": [
    "bilstm_model = tf.keras.models.Sequential()"
   ]
  },
  {
   "cell_type": "code",
   "execution_count": 57,
   "metadata": {},
   "outputs": [],
   "source": [
    "bilstm_model.add(layers.Bidirectional(layers.LSTM(20, return_sequences=True), input_shape=(n_timestamps, 1)))\n",
    "bilstm_model.add(layers.TimeDistributed(layers.Dense(1, activation=\"sigmoid\")))"
   ]
  },
  {
   "cell_type": "code",
   "execution_count": 58,
   "metadata": {},
   "outputs": [],
   "source": [
    "bilstm_model.compile(\n",
    "    optimizer=tf.train.AdadeltaOptimizer(learning_rate=0.01),\n",
    "    loss=\"binary_crossentropy\",\n",
    "    metrics=[\"acc\"]\n",
    ")"
   ]
  },
  {
   "cell_type": "code",
   "execution_count": 59,
   "metadata": {},
   "outputs": [
    {
     "name": "stdout",
     "output_type": "stream",
     "text": [
      "Epoch 1/10\n",
      "1/1 [==============================] - 2s 2s/step - loss: 0.6902 - acc: 0.5000\n",
      "Epoch 2/10\n",
      "1/1 [==============================] - 0s 14ms/step - loss: 0.6902 - acc: 0.5000\n",
      "Epoch 3/10\n",
      "1/1 [==============================] - 0s 17ms/step - loss: 0.6902 - acc: 0.5000\n",
      "Epoch 4/10\n",
      "1/1 [==============================] - 0s 16ms/step - loss: 0.6902 - acc: 0.5000\n",
      "Epoch 5/10\n",
      "1/1 [==============================] - 0s 16ms/step - loss: 0.6902 - acc: 0.5000\n",
      "Epoch 6/10\n",
      "1/1 [==============================] - 0s 19ms/step - loss: 0.6902 - acc: 0.5000\n",
      "Epoch 7/10\n",
      "1/1 [==============================] - 0s 18ms/step - loss: 0.6901 - acc: 0.5000\n",
      "Epoch 8/10\n",
      "1/1 [==============================] - 0s 18ms/step - loss: 0.6901 - acc: 0.5000\n",
      "Epoch 9/10\n",
      "1/1 [==============================] - 0s 22ms/step - loss: 0.6901 - acc: 0.5000\n",
      "Epoch 10/10\n",
      "1/1 [==============================] - 0s 20ms/step - loss: 0.6901 - acc: 0.5000\n"
     ]
    },
    {
     "data": {
      "text/plain": [
       "<tensorflow.python.keras.callbacks.History at 0xb2a5b6828>"
      ]
     },
     "execution_count": 59,
     "metadata": {},
     "output_type": "execute_result"
    }
   ],
   "source": [
    "bilstm_model.fit(X, y, epochs=10)"
   ]
  },
  {
   "cell_type": "code",
   "execution_count": 61,
   "metadata": {},
   "outputs": [
    {
     "name": "stdout",
     "output_type": "stream",
     "text": [
      "_________________________________________________________________\n",
      "Layer (type)                 Output Shape              Param #   \n",
      "=================================================================\n",
      "lstm (LSTM)                  (None, 10, 20)            1760      \n",
      "_________________________________________________________________\n",
      "time_distributed (TimeDistri (None, 10, 1)             21        \n",
      "=================================================================\n",
      "Total params: 1,781\n",
      "Trainable params: 1,781\n",
      "Non-trainable params: 0\n",
      "_________________________________________________________________\n"
     ]
    }
   ],
   "source": [
    "model.summary()"
   ]
  },
  {
   "cell_type": "code",
   "execution_count": 62,
   "metadata": {},
   "outputs": [
    {
     "name": "stdout",
     "output_type": "stream",
     "text": [
      "_________________________________________________________________\n",
      "Layer (type)                 Output Shape              Param #   \n",
      "=================================================================\n",
      "bidirectional (Bidirectional (None, 10, 40)            3520      \n",
      "_________________________________________________________________\n",
      "time_distributed_1 (TimeDist (None, 10, 1)             41        \n",
      "=================================================================\n",
      "Total params: 3,561\n",
      "Trainable params: 3,561\n",
      "Non-trainable params: 0\n",
      "_________________________________________________________________\n"
     ]
    }
   ],
   "source": [
    "bilstm_model.summary()"
   ]
  },
  {
   "cell_type": "markdown",
   "metadata": {},
   "source": [
    "# BLSTM for frames"
   ]
  },
  {
   "cell_type": "code",
   "execution_count": 64,
   "metadata": {},
   "outputs": [],
   "source": [
    "frame_dim = 1024\n",
    "player_dim = 3472"
   ]
  },
  {
   "cell_type": "code",
   "execution_count": 63,
   "metadata": {},
   "outputs": [],
   "source": [
    "num_hidden_states = 256\n",
    "embedding_dim = 256"
   ]
  },
  {
   "cell_type": "code",
   "execution_count": 73,
   "metadata": {},
   "outputs": [],
   "source": [
    "n_timestamps = 24"
   ]
  },
  {
   "cell_type": "code",
   "execution_count": 76,
   "metadata": {},
   "outputs": [],
   "source": [
    "model = tf.keras.models.Sequential()\n",
    "model.add(layers.Embedding(frame_dim, embedding_dim, input_length=n_timestamps))\n",
    "model.add(layers.Bidirectional(layers.LSTM(num_hidden_states, return_sequences=True), input_shape=(n_timestamps, embedding_dim)))"
   ]
  },
  {
   "cell_type": "code",
   "execution_count": 77,
   "metadata": {},
   "outputs": [
    {
     "name": "stdout",
     "output_type": "stream",
     "text": [
      "_________________________________________________________________\n",
      "Layer (type)                 Output Shape              Param #   \n",
      "=================================================================\n",
      "embedding_5 (Embedding)      (None, 24, 256)           262144    \n",
      "_________________________________________________________________\n",
      "bidirectional_5 (Bidirection (None, 24, 512)           1050624   \n",
      "=================================================================\n",
      "Total params: 1,312,768\n",
      "Trainable params: 1,312,768\n",
      "Non-trainable params: 0\n",
      "_________________________________________________________________\n"
     ]
    }
   ],
   "source": [
    "model.summary()"
   ]
  },
  {
   "cell_type": "markdown",
   "metadata": {},
   "source": [
    "# Classification Network"
   ]
  },
  {
   "cell_type": "code",
   "execution_count": 78,
   "metadata": {},
   "outputs": [],
   "source": [
    "import tensorflow.keras.backend as K"
   ]
  },
  {
   "cell_type": "code",
   "execution_count": 308,
   "metadata": {},
   "outputs": [],
   "source": [
    "batch_size=5"
   ]
  },
  {
   "cell_type": "code",
   "execution_count": 149,
   "metadata": {},
   "outputs": [],
   "source": [
    "k = 11"
   ]
  },
  {
   "cell_type": "code",
   "execution_count": 309,
   "metadata": {},
   "outputs": [],
   "source": [
    "ft = layers.Input(shape=(n_timestamps, frame_dim))\n",
    "pti = layers.Input(shape=(n_timestamps, None, player_dim))\n",
    "\n",
    "ft_embed = layers.Dense(embedding_dim, activation=\"relu\")(ft)\n",
    "pti_embed = layers.Dense(embedding_dim, activation=\"relu\")(pti)\n",
    "\n",
    "h_f = layers.Bidirectional(layers.LSTM(num_hidden_states, return_sequences=True), input_shape=(n_timestamps, embedding_dim))(ft_embed)\n",
    "\n",
    "def n_players_permute(tensor):\n",
    "    num_players = K.shape(tensor)[2]\n",
    "    return num_players, K.permute_dimensions(tensor, [0, 2, 1, 3])\n",
    "\n",
    "def reshape1(tensor):\n",
    "    return K.reshape(tensor, shape=(-1, n_timestamps, embedding_dim))\n",
    "\n",
    "def reshape2(tensor):\n",
    "    return K.reshape(tensor, shape=(-1, num_players, n_timestamps, 2 * num_hidden_states))\n",
    "\n",
    "def permute(tensor):\n",
    "    return K.permute_dimensions(tensor, [0, 2, 1, 3])\n",
    "\n",
    "\n",
    "#pti_embed = K.permute_dimensions(pti_embed, [0, 2, 1, 3])\n",
    "num_players, pti_embed = layers.Lambda(n_players_permute)(pti_embed)\n",
    "pti_embed = layers.Lambda(reshape1)(pti_embed)\n",
    "\n",
    "h_pi = layers.Bidirectional(layers.LSTM(num_hidden_states, return_sequences=True), input_shape=(n_timestamps, embedding_dim))(pti_embed)\n",
    "h_pi = layers.Lambda(reshape2)(h_pi)\n",
    "#h_pi = layers.Reshape(target_shape=(num_players, n_timestamps, num_hidden_states))(h_pi)\n",
    "h_pi = layers.Lambda(permute)(h_pi)\n",
    "\n",
    "def attention(tensor):\n",
    "    return K.mean(tensor, axis=2)\n",
    "\n",
    "a_t = layers.Lambda(attention)(h_pi)\n",
    "\n",
    "def concat(args):\n",
    "    return K.concatenate(args, axis=-1)\n",
    "\n",
    "c_t = layers.Lambda(concat)([h_f, a_t])\n",
    "h_e = layers.LSTM(num_hidden_states, return_sequences=True, input_shape=(n_timestamps, 2 * embedding_dim))(c_t)\n",
    "outputs = layers.Dense(k, activation=\"linear\")(h_e)\n"
   ]
  },
  {
   "cell_type": "code",
   "execution_count": 310,
   "metadata": {},
   "outputs": [
    {
     "data": {
      "text/plain": [
       "<tf.Tensor 'lambda_63/Mean:0' shape=(?, 24, 512) dtype=float32>"
      ]
     },
     "execution_count": 310,
     "metadata": {},
     "output_type": "execute_result"
    }
   ],
   "source": [
    "a_t"
   ]
  },
  {
   "cell_type": "code",
   "execution_count": 387,
   "metadata": {},
   "outputs": [
    {
     "data": {
      "text/plain": [
       "<tf.Tensor 'dense_97/BiasAdd:0' shape=(?, 24, 11) dtype=float32>"
      ]
     },
     "execution_count": 387,
     "metadata": {},
     "output_type": "execute_result"
    }
   ],
   "source": [
    "outputs"
   ]
  },
  {
   "cell_type": "code",
   "execution_count": 397,
   "metadata": {},
   "outputs": [],
   "source": [
    "def squared_hinge_loss(y_true, y_pred):\n",
    "    # y_true 100x11, y_pred 100x24x11\n",
    "    # print(y_pred.get_shape())\n",
    "    L = 0.5 * K.sum(K.square(K.maximum(0., 1. - y_true * y_pred)), axis=[-1, -2])\n",
    "    return K.mean(L)"
   ]
  },
  {
   "cell_type": "code",
   "execution_count": null,
   "metadata": {},
   "outputs": [],
   "source": []
  },
  {
   "cell_type": "code",
   "execution_count": 398,
   "metadata": {},
   "outputs": [],
   "source": [
    "class_model.compile(\n",
    "    optimizer=tf.train.AdamOptimizer(learning_rate=0.01),\n",
    "    loss=squared_hinge_loss\n",
    ")"
   ]
  },
  {
   "cell_type": "markdown",
   "metadata": {},
   "source": [
    "## Mock Data"
   ]
  },
  {
   "cell_type": "code",
   "execution_count": 354,
   "metadata": {},
   "outputs": [
    {
     "name": "stdout",
     "output_type": "stream",
     "text": [
      "______________________________________________________________________________________________________________________________________________________\n",
      "Layer (type)                                     Output Shape                     Param #           Connected to                                      \n",
      "======================================================================================================================================================\n",
      "input_81 (InputLayer)                            (None, 24, None, 3472)           0                                                                   \n",
      "______________________________________________________________________________________________________________________________________________________\n",
      "dense_96 (Dense)                                 (None, 24, None, 256)            889088            input_81[0][0]                                    \n",
      "______________________________________________________________________________________________________________________________________________________\n",
      "lambda_59 (Lambda)                               [(), (None, None, 24, 256)]      0                 dense_96[0][0]                                    \n",
      "______________________________________________________________________________________________________________________________________________________\n",
      "lambda_60 (Lambda)                               (None, 24, 256)                  0                 lambda_59[0][1]                                   \n",
      "______________________________________________________________________________________________________________________________________________________\n",
      "bidirectional_80 (Bidirectional)                 (None, 24, 512)                  1050624           lambda_60[0][0]                                   \n",
      "______________________________________________________________________________________________________________________________________________________\n",
      "input_80 (InputLayer)                            (None, 24, 1024)                 0                                                                   \n",
      "______________________________________________________________________________________________________________________________________________________\n",
      "lambda_61 (Lambda)                               (None, None, 24, 512)            0                 bidirectional_80[0][0]                            \n",
      "______________________________________________________________________________________________________________________________________________________\n",
      "dense_95 (Dense)                                 (None, 24, 256)                  262400            input_80[0][0]                                    \n",
      "______________________________________________________________________________________________________________________________________________________\n",
      "lambda_62 (Lambda)                               (None, 24, None, 512)            0                 lambda_61[0][0]                                   \n",
      "______________________________________________________________________________________________________________________________________________________\n",
      "bidirectional_79 (Bidirectional)                 (None, 24, 512)                  1050624           dense_95[0][0]                                    \n",
      "______________________________________________________________________________________________________________________________________________________\n",
      "lambda_63 (Lambda)                               (None, 24, 512)                  0                 lambda_62[0][0]                                   \n",
      "______________________________________________________________________________________________________________________________________________________\n",
      "lambda_64 (Lambda)                               (None, 24, 1024)                 0                 bidirectional_79[0][0]                            \n",
      "                                                                                                    lambda_63[0][0]                                   \n",
      "______________________________________________________________________________________________________________________________________________________\n",
      "lstm_98 (LSTM)                                   (None, 24, 256)                  1311744           lambda_64[0][0]                                   \n",
      "______________________________________________________________________________________________________________________________________________________\n",
      "dense_97 (Dense)                                 (None, 24, 11)                   2827              lstm_98[0][0]                                     \n",
      "======================================================================================================================================================\n",
      "Total params: 4,567,307\n",
      "Trainable params: 4,567,307\n",
      "Non-trainable params: 0\n",
      "______________________________________________________________________________________________________________________________________________________\n"
     ]
    }
   ],
   "source": [
    "class_model.summary(line_length=150)"
   ]
  },
  {
   "cell_type": "code",
   "execution_count": 329,
   "metadata": {},
   "outputs": [],
   "source": [
    "N_SAMPLES = 100\n",
    "N_CLASS = 11"
   ]
  },
  {
   "cell_type": "code",
   "execution_count": 303,
   "metadata": {},
   "outputs": [
    {
     "data": {
      "text/plain": [
       "6"
      ]
     },
     "execution_count": 303,
     "metadata": {},
     "output_type": "execute_result"
    }
   ],
   "source": [
    "np.random.randint(6, 11)"
   ]
  },
  {
   "cell_type": "code",
   "execution_count": 288,
   "metadata": {},
   "outputs": [],
   "source": [
    "frame = np.random.rand(N_SAMPLES, n_timestamps, frame_dim)\n",
    "player = np.random.rand(N_SAMPLES, n_timestamps, np.random.randint(6, 11), player_dim)"
   ]
  },
  {
   "cell_type": "code",
   "execution_count": 337,
   "metadata": {},
   "outputs": [],
   "source": [
    "labels = -1 * np.ones(shape=(N_SAMPLES, N_CLASS))\n",
    "classes = np.random.randint(0, N_CLASS, N_SAMPLES)"
   ]
  },
  {
   "cell_type": "code",
   "execution_count": 338,
   "metadata": {},
   "outputs": [
    {
     "data": {
      "text/plain": [
       "(100,)"
      ]
     },
     "execution_count": 338,
     "metadata": {},
     "output_type": "execute_result"
    }
   ],
   "source": [
    "classes.shape"
   ]
  },
  {
   "cell_type": "code",
   "execution_count": 339,
   "metadata": {},
   "outputs": [],
   "source": [
    "labels[np.arange(len(labels)), classes] = 1"
   ]
  },
  {
   "cell_type": "code",
   "execution_count": 347,
   "metadata": {},
   "outputs": [
    {
     "data": {
      "text/plain": [
       "array([-1.,  1., -1., -1., -1., -1., -1., -1., -1., -1., -1.])"
      ]
     },
     "execution_count": 347,
     "metadata": {},
     "output_type": "execute_result"
    }
   ],
   "source": [
    "labels[70]"
   ]
  },
  {
   "cell_type": "code",
   "execution_count": 402,
   "metadata": {},
   "outputs": [
    {
     "data": {
      "text/plain": [
       "(2400, 11)"
      ]
     },
     "execution_count": 402,
     "metadata": {},
     "output_type": "execute_result"
    }
   ],
   "source": [
    "np.(labels, axis=0, repeats=24).shape"
   ]
  },
  {
   "cell_type": "code",
   "execution_count": 403,
   "metadata": {},
   "outputs": [],
   "source": [
    "labels = labels.reshape(labels.shape[0], 1, labels.shape[1])"
   ]
  },
  {
   "cell_type": "code",
   "execution_count": 404,
   "metadata": {},
   "outputs": [
    {
     "data": {
      "text/plain": [
       "(100, 1, 11)"
      ]
     },
     "execution_count": 404,
     "metadata": {},
     "output_type": "execute_result"
    }
   ],
   "source": [
    "labels.shape"
   ]
  },
  {
   "cell_type": "code",
   "execution_count": 406,
   "metadata": {},
   "outputs": [],
   "source": [
    "labels = labels.repeat(24, axis=1)"
   ]
  },
  {
   "cell_type": "code",
   "execution_count": 356,
   "metadata": {},
   "outputs": [
    {
     "data": {
      "text/plain": [
       "(100, 11)"
      ]
     },
     "execution_count": 356,
     "metadata": {},
     "output_type": "execute_result"
    }
   ],
   "source": [
    "labels.shape"
   ]
  },
  {
   "cell_type": "code",
   "execution_count": 306,
   "metadata": {},
   "outputs": [
    {
     "data": {
      "text/plain": [
       "(100, 24, 7, 3472)"
      ]
     },
     "execution_count": 306,
     "metadata": {},
     "output_type": "execute_result"
    }
   ],
   "source": [
    "player.shape"
   ]
  },
  {
   "cell_type": "code",
   "execution_count": 407,
   "metadata": {},
   "outputs": [
    {
     "name": "stdout",
     "output_type": "stream",
     "text": [
      "Epoch 1/5\n",
      "100/100 [==============================] - 21s 212ms/step - loss: 121.6298\n",
      "Epoch 2/5\n",
      "100/100 [==============================] - 4s 37ms/step - loss: 268.4391\n",
      "Epoch 3/5\n",
      "100/100 [==============================] - 4s 36ms/step - loss: 183.1513\n",
      "Epoch 4/5\n",
      "100/100 [==============================] - 4s 38ms/step - loss: 110.3560\n",
      "Epoch 5/5\n",
      "100/100 [==============================] - 4s 37ms/step - loss: 63.5767\n"
     ]
    },
    {
     "data": {
      "text/plain": [
       "<tensorflow.python.keras.callbacks.History at 0xbfa2e2400>"
      ]
     },
     "execution_count": 407,
     "metadata": {},
     "output_type": "execute_result"
    }
   ],
   "source": [
    "class_model.fit([frame, player], labels, epochs=5, batch_size=100)"
   ]
  },
  {
   "cell_type": "code",
   "execution_count": null,
   "metadata": {},
   "outputs": [],
   "source": []
  }
 ],
 "metadata": {
  "kernelspec": {
   "display_name": "Python 3",
   "language": "python",
   "name": "python3"
  },
  "language_info": {
   "codemirror_mode": {
    "name": "ipython",
    "version": 3
   },
   "file_extension": ".py",
   "mimetype": "text/x-python",
   "name": "python",
   "nbconvert_exporter": "python",
   "pygments_lexer": "ipython3",
   "version": "3.6.6"
  }
 },
 "nbformat": 4,
 "nbformat_minor": 2
}
